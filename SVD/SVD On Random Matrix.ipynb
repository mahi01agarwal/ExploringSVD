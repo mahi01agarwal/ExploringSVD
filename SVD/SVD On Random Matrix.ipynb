{
 "cells": [
  {
   "cell_type": "code",
   "execution_count": 1,
   "id": "a3d75407",
   "metadata": {},
   "outputs": [],
   "source": [
    "import numpy as np\n",
    "from numpy.linalg import svd\n",
    "import matplotlib.pyplot as plt\n",
    "from matplotlib.pyplot import imshow"
   ]
  },
  {
   "cell_type": "code",
   "execution_count": 28,
   "id": "a08eeffd",
   "metadata": {},
   "outputs": [],
   "source": [
    "def plot_svd(A):\n",
    "    n = len(A)\n",
    "    U,S,V = svd(A)\n",
    "    \n",
    "    imgs = []\n",
    "    for i in range(n):\n",
    "        imgs.append(S[i]*np.outer(U[:,i],V[i]))\n",
    "    print(np.round(imgs,2))   \n",
    "     \n",
    "        \n",
    "    combined_imgs = []\n",
    "    \n",
    "    for i in range(n):\n",
    "        img = sum(imgs[:i+1])\n",
    "    combined_imgs.append(img)\n",
    "        \n",
    "    print(\"\\nCombining all the above ones , we get our actual matrix A :\")   \n",
    "    print(combined_imgs)\n",
    "    \n",
    "    return U , S , V"
   ]
  },
  {
   "cell_type": "code",
   "execution_count": 29,
   "id": "dee99d45",
   "metadata": {},
   "outputs": [
    {
     "name": "stdout",
     "output_type": "stream",
     "text": [
      "[[[ 2.51  2.37  2.22  1.97]\n",
      "  [ 6.07  5.72  5.37  4.77]\n",
      "  [ 5.63  5.31  4.99  4.43]\n",
      "  [ 7.88  7.43  6.98  6.19]]\n",
      "\n",
      " [[ 0.64 -0.96  1.56 -1.42]\n",
      "  [-1.19  1.8  -2.93  2.66]\n",
      "  [-0.35  0.54 -0.87  0.79]\n",
      "  [ 0.97 -1.47  2.38 -2.16]]\n",
      "\n",
      " [[-0.05 -0.45  0.14  0.44]\n",
      "  [ 0.15  1.46 -0.46 -1.43]\n",
      "  [-0.3  -2.84  0.89  2.78]\n",
      "  [ 0.11  1.05 -0.33 -1.03]]\n",
      "\n",
      " [[-0.1   0.04  0.07  0.01]\n",
      "  [-0.03  0.01  0.02  0.  ]\n",
      "  [ 0.02 -0.01 -0.01 -0.  ]\n",
      "  [ 0.04 -0.02 -0.03 -0.  ]]]\n",
      "\n",
      "Combining all the above ones , we get our actual matrix A\n",
      "[array([[3., 1., 4., 1.],\n",
      "       [5., 9., 2., 6.],\n",
      "       [5., 3., 5., 8.],\n",
      "       [9., 7., 9., 3.]])]\n"
     ]
    }
   ],
   "source": [
    "A = np.array([[3,1,4,1],[5,9,2,6],[5,3,5,8],[9,7,9,3]])\n",
    "U,S,V = plot_svd(A)"
   ]
  },
  {
   "cell_type": "code",
   "execution_count": 33,
   "id": "2873e642",
   "metadata": {},
   "outputs": [
    {
     "name": "stdout",
     "output_type": "stream",
     "text": [
      "[[-0.21472623  0.37397651 -0.13150279 -0.89260362]\n",
      " [-0.5186023  -0.70137666  0.43020321 -0.23248147]\n",
      " [-0.48143993 -0.20822528 -0.83770916  0.15199076]\n",
      " [-0.67317152  0.56996016  0.30963782  0.35511962]]\n"
     ]
    }
   ],
   "source": [
    "print(U)"
   ]
  },
  {
   "cell_type": "code",
   "execution_count": 9,
   "id": "a1f673b1",
   "metadata": {},
   "outputs": [
    {
     "name": "stdout",
     "output_type": "stream",
     "text": [
      "[21.23135684  6.43244475  4.88175527  0.14699287]\n"
     ]
    }
   ],
   "source": [
    "print(S)"
   ]
  },
  {
   "cell_type": "code",
   "execution_count": 10,
   "id": "2d3b88b8",
   "metadata": {},
   "outputs": [
    {
     "name": "stdout",
     "output_type": "stream",
     "text": [
      "[[-0.55120987 -0.51992284 -0.48804478 -0.43319766]\n",
      " [ 0.26483885 -0.40006067  0.65008996 -0.58923246]\n",
      " [ 0.07265877  0.69537763 -0.21865293 -0.68070665]\n",
      " [ 0.78787611 -0.29339674 -0.53980203 -0.04222983]]\n"
     ]
    }
   ],
   "source": [
    "print(V)"
   ]
  },
  {
   "cell_type": "code",
   "execution_count": null,
   "id": "75b534b7",
   "metadata": {},
   "outputs": [],
   "source": []
  }
 ],
 "metadata": {
  "kernelspec": {
   "display_name": "Python 3 (ipykernel)",
   "language": "python",
   "name": "python3"
  },
  "language_info": {
   "codemirror_mode": {
    "name": "ipython",
    "version": 3
   },
   "file_extension": ".py",
   "mimetype": "text/x-python",
   "name": "python",
   "nbconvert_exporter": "python",
   "pygments_lexer": "ipython3",
   "version": "3.10.9"
  }
 },
 "nbformat": 4,
 "nbformat_minor": 5
}
